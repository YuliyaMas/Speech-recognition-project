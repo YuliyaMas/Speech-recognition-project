{
  "cells": [
    {
      "cell_type": "code",
      "execution_count": null,
      "metadata": {
        "colab": {
          "base_uri": "https://localhost:8080/"
        },
        "id": "fwBfGag-qGHb",
        "outputId": "7bd9cfd4-2864-475d-c85b-f2e2be6a0cc1"
      },
      "outputs": [
        {
          "output_type": "stream",
          "name": "stdout",
          "text": [
            "Mounted at /content/drive\n",
            "Looking in indexes: https://pypi.org/simple, https://us-python.pkg.dev/colab-wheels/public/simple/\n",
            "Requirement already satisfied: opencv-python in /usr/local/lib/python3.8/dist-packages (4.6.0.66)\n",
            "Requirement already satisfied: numpy>=1.14.5 in /usr/local/lib/python3.8/dist-packages (from opencv-python) (1.21.6)\n"
          ]
        }
      ],
      "source": [
        "from __future__ import print_function\n",
        "import keras, glob\n",
        "from tensorflow.keras.datasets import mnist\n",
        "from tensorflow.keras.models import Sequential\n",
        "from tensorflow.keras.layers import Dense, Dropout, Flatten\n",
        "from tensorflow.keras.layers import Conv2D, MaxPooling2D\n",
        "from tensorflow.keras import backend as K\n",
        "from tensorflow.keras.utils import to_categorical\n",
        "from tensorflow.keras.losses import categorical_crossentropy\n",
        "from tensorflow.keras.optimizers import Adadelta, SGD, Adam, RMSprop\n",
        "from matplotlib import pyplot\n",
        "import numpy as np\n",
        "import pandas as pd\n",
        "from pandas import DataFrame as df\n",
        "from keras.utils import to_categorical\n",
        "from google.colab import files\n",
        "from google.colab import drive\n",
        "drive.mount('/content/drive')\n",
        "!pip install opencv-python\n",
        "import cv2\n",
        "from sklearn.model_selection import train_test_split\n",
        "from sklearn.metrics import confusion_matrix\n",
        "import seaborn as sns"
      ]
    },
    {
      "cell_type": "code",
      "execution_count": null,
      "metadata": {
        "colab": {
          "base_uri": "https://localhost:8080/"
        },
        "id": "pzrbVf97QNdd",
        "outputId": "6bdc5f15-fe81-4cad-d40d-76dcdcd35d2f"
      },
      "outputs": [
        {
          "output_type": "stream",
          "name": "stdout",
          "text": [
            "Drive already mounted at /content/drive; to attempt to forcibly remount, call drive.mount(\"/content/drive\", force_remount=True).\n"
          ]
        }
      ],
      "source": [
        "from google.colab import drive\n",
        "drive.mount('/content/drive')"
      ]
    },
    {
      "cell_type": "code",
      "execution_count": null,
      "metadata": {
        "id": "VVhX3C6RNrK6"
      },
      "outputs": [],
      "source": [
        "# Préparation de train et test\n",
        "\n",
        "def separate_corpus(path):\n",
        "  labels = {\"de\":0, \"en\":1, \"nl\":2, \"be\":3, \"ru\":4, \"uk\":5}\n",
        "  X = []\n",
        "  Y = []\n",
        "  for file in path:\n",
        "    file_png = file.split('/')[-1]\n",
        "    label = file_png.split('_')[2]\n",
        "    x = cv2.imread(file, 0).astype(np.uint8)\n",
        "    x = cv2.resize(x, (64, 64))\n",
        "    X.append(x)\n",
        "    y = labels[label]\n",
        "    Y.append(y)\n",
        "    # print(label)\n",
        "  # print(len(X), len(Y))\n",
        "  return X, Y\n"
      ]
    },
    {
      "cell_type": "code",
      "execution_count": null,
      "metadata": {
        "id": "zXRYNg2sPMBv"
      },
      "outputs": [],
      "source": [
        "# Normalisation des données : transformation des listes en tensors et convertir en float32\n",
        "\n",
        "def normalization(nb_classes, img_rows, img_cols, x_train, x_test):\n",
        "  x_train = np.array(x_train)\n",
        "  x_test = np.array(x_test)\n",
        "  x_train = x_train.reshape(-1, img_rows, img_cols, 1)\n",
        "  x_test = x_test.reshape(-1, img_rows, img_cols, 1)\n",
        "  x_train = x_train.astype('float32')\n",
        "  x_test = x_test.astype('float32')\n",
        "  x_train /= 255\n",
        "  x_test /= 255\n",
        "  print('x_train shape:', x_train.shape)\n",
        "  print('x_test shape', x_test.shape)\n",
        "  print(x_train.shape[0], 'train samples')\n",
        "  print(x_test.shape[0], 'test samples')\n",
        "  return x_train, x_test\n"
      ]
    },
    {
      "cell_type": "code",
      "execution_count": null,
      "metadata": {
        "id": "aBEz4F1qRbhz"
      },
      "outputs": [],
      "source": [
        "# Convertissement les labels en vecteurs\n",
        "def convert_y(y_train, y_test, nb_classes):\n",
        "  # print(y_test)\n",
        "  y_train = to_categorical(y_train, nb_classes)\n",
        "  y_test = to_categorical(y_test, nb_classes)\n",
        "  return y_train, y_test"
      ]
    },
    {
      "cell_type": "code",
      "execution_count": null,
      "metadata": {
        "id": "JAcpm_Q-Os_Y"
      },
      "outputs": [],
      "source": [
        "# Entrainement\n",
        "def neuronal_network_CNN(nb_classes, x_train, y_train, x_test, y_test, batch_size, epochs):\n",
        "  input_shape = [64, 64, 1]\n",
        "  model = Sequential()\n",
        "  model.add(Conv2D(32, kernel_size=(3, 3),\n",
        "                  activation='relu',\n",
        "                  input_shape=input_shape))\n",
        "  model.add(Conv2D(64, (3, 3), activation='relu')) # couche convolutif\n",
        "  model.add(MaxPooling2D(pool_size=(2, 2))) # couche de pooling qui permet de reduire la taille de l'image\n",
        "  model.add(Conv2D(32, (3, 3), activation='relu')) # couche convolutif\n",
        "  model.add(MaxPooling2D(pool_size=(2, 2))) # couche de pooling qui permet de reduire la taille de l'image\n",
        "  model.add(Dropout(0.25)) #couche qui permet de d'enlever des filtrer et les changer lors de chaque epoch\n",
        "  model.add(Flatten()) #la matrice est mis à plat avec toute ses dimensions\n",
        "  model.add(Dense(128, activation='softmax'))\n",
        "  model.add(Dropout(0.5)) #0.5 == pourcentage\n",
        "  model.add(Dense(nb_classes, activation='softmax')) #prise de décision\n",
        "  opt = RMSprop(learning_rate=0.001)\n",
        "  model.compile(loss=categorical_crossentropy,\n",
        "              optimizer=opt,\n",
        "              metrics=['accuracy'])\n",
        "  history = model.fit(x_train, y_train,\n",
        "          batch_size=batch_size,\n",
        "          epochs=epochs,\n",
        "          verbose=1,\n",
        "          validation_data=(x_test, y_test))\n",
        "  print(history.history.keys())\n",
        "  score = model.evaluate(x_test, y_test, verbose=0)\n",
        "  print('Test loss:', score[0])\n",
        "  print('Test accuracy:', score[1])\n",
        "  return model, history"
      ]
    },
    {
      "cell_type": "code",
      "execution_count": null,
      "metadata": {
        "id": "AV6vVFu-cbVh"
      },
      "outputs": [],
      "source": [
        "# CNN model\n",
        "\n",
        "# !ls /content/drive/MyDrive/Colab_Notebooks/CNN_M2/nasalite_light_corpus/train/nasal\n",
        "path_corpus = glob.glob(\"/content/drive/MyDrive/spoken_lang_id/mfcc_all_500_phon/*.png\")\n"
      ]
    },
    {
      "cell_type": "code",
      "execution_count": null,
      "metadata": {
        "id": "1c9UWR-X3Fr1"
      },
      "outputs": [],
      "source": [
        "X, Y = separate_corpus(path_corpus)\n"
      ]
    },
    {
      "cell_type": "code",
      "execution_count": null,
      "metadata": {
        "id": "LjCRV3Uo3Jjq"
      },
      "outputs": [],
      "source": [
        "x_train, x_test, y_train, y_test = train_test_split(X, Y, test_size=0.2, random_state=42)"
      ]
    },
    {
      "cell_type": "code",
      "execution_count": null,
      "metadata": {
        "colab": {
          "base_uri": "https://localhost:8080/"
        },
        "id": "D2qjaFOPfx7Y",
        "outputId": "cc24c744-c589-4928-90e9-da4dcf589fa2"
      },
      "outputs": [
        {
          "output_type": "stream",
          "name": "stdout",
          "text": [
            "x_train shape: (7208, 64, 64, 1)\n",
            "x_test shape (1802, 64, 64, 1)\n",
            "7208 train samples\n",
            "1802 test samples\n"
          ]
        }
      ],
      "source": [
        "x_train, x_test = normalization(6, 64, 64, x_train, x_test)\n"
      ]
    },
    {
      "cell_type": "code",
      "execution_count": null,
      "metadata": {
        "id": "QdU6Yq3xf064"
      },
      "outputs": [],
      "source": [
        "# nb_classes = 2\n",
        "# y_train = to_categorical(y_train, nb_classes)\n",
        "# y_test = to_categorical(y_test, nb_classes)\n",
        "y_train, y_test = convert_y(y_train, y_test, 6)\n"
      ]
    },
    {
      "cell_type": "code",
      "execution_count": null,
      "metadata": {
        "colab": {
          "base_uri": "https://localhost:8080/"
        },
        "id": "5UU6eCSOf2iM",
        "outputId": "474ccc7f-76ae-4cde-db01-6a6696d8a9d9"
      },
      "outputs": [
        {
          "output_type": "stream",
          "name": "stdout",
          "text": [
            "Epoch 1/30\n",
            "57/57 [==============================] - 115s 2s/step - loss: 1.6944 - accuracy: 0.3470 - val_loss: 1.6090 - val_accuracy: 0.6282\n",
            "Epoch 2/30\n",
            "57/57 [==============================] - 108s 2s/step - loss: 1.5994 - accuracy: 0.4205 - val_loss: 1.5575 - val_accuracy: 0.6604\n",
            "Epoch 3/30\n",
            "57/57 [==============================] - 110s 2s/step - loss: 1.5548 - accuracy: 0.4291 - val_loss: 1.5094 - val_accuracy: 0.6609\n",
            "Epoch 4/30\n",
            "57/57 [==============================] - 108s 2s/step - loss: 1.5068 - accuracy: 0.4484 - val_loss: 1.4532 - val_accuracy: 0.7109\n",
            "Epoch 5/30\n",
            "57/57 [==============================] - 110s 2s/step - loss: 1.4662 - accuracy: 0.4464 - val_loss: 1.4018 - val_accuracy: 0.7103\n",
            "Epoch 6/30\n",
            "57/57 [==============================] - 109s 2s/step - loss: 1.4326 - accuracy: 0.4423 - val_loss: 1.3563 - val_accuracy: 0.7109\n",
            "Epoch 7/30\n",
            "57/57 [==============================] - 110s 2s/step - loss: 1.4052 - accuracy: 0.4517 - val_loss: 1.3098 - val_accuracy: 0.7198\n",
            "Epoch 8/30\n",
            "57/57 [==============================] - 108s 2s/step - loss: 1.3712 - accuracy: 0.4507 - val_loss: 1.2689 - val_accuracy: 0.7192\n",
            "Epoch 9/30\n",
            "57/57 [==============================] - 110s 2s/step - loss: 1.3575 - accuracy: 0.4517 - val_loss: 1.2363 - val_accuracy: 0.7203\n",
            "Epoch 10/30\n",
            "57/57 [==============================] - 108s 2s/step - loss: 1.3241 - accuracy: 0.4727 - val_loss: 1.1952 - val_accuracy: 0.7314\n",
            "Epoch 11/30\n",
            "57/57 [==============================] - 110s 2s/step - loss: 1.2975 - accuracy: 0.4943 - val_loss: 1.1670 - val_accuracy: 0.7153\n",
            "Epoch 12/30\n",
            "57/57 [==============================] - 108s 2s/step - loss: 1.2847 - accuracy: 0.5103 - val_loss: 1.1476 - val_accuracy: 0.7153\n",
            "Epoch 13/30\n",
            "57/57 [==============================] - 110s 2s/step - loss: 1.2618 - accuracy: 0.5193 - val_loss: 1.0880 - val_accuracy: 0.7425\n",
            "Epoch 14/30\n",
            "57/57 [==============================] - 108s 2s/step - loss: 1.2557 - accuracy: 0.5121 - val_loss: 1.0631 - val_accuracy: 0.7309\n",
            "Epoch 15/30\n",
            "57/57 [==============================] - 110s 2s/step - loss: 1.2283 - accuracy: 0.5214 - val_loss: 1.0345 - val_accuracy: 0.7664\n",
            "Epoch 16/30\n",
            "57/57 [==============================] - 112s 2s/step - loss: 1.2117 - accuracy: 0.5272 - val_loss: 1.0019 - val_accuracy: 0.7686\n",
            "Epoch 17/30\n",
            "57/57 [==============================] - 108s 2s/step - loss: 1.2024 - accuracy: 0.5258 - val_loss: 0.9816 - val_accuracy: 0.7625\n",
            "Epoch 18/30\n",
            "57/57 [==============================] - 110s 2s/step - loss: 1.1746 - accuracy: 0.5309 - val_loss: 0.9568 - val_accuracy: 0.7825\n",
            "Epoch 19/30\n",
            "57/57 [==============================] - 108s 2s/step - loss: 1.1656 - accuracy: 0.5314 - val_loss: 0.9206 - val_accuracy: 0.7691\n",
            "Epoch 20/30\n",
            "57/57 [==============================] - 110s 2s/step - loss: 1.1477 - accuracy: 0.5362 - val_loss: 0.8898 - val_accuracy: 0.7986\n",
            "Epoch 21/30\n",
            "57/57 [==============================] - 108s 2s/step - loss: 1.1356 - accuracy: 0.5420 - val_loss: 0.8669 - val_accuracy: 0.7858\n",
            "Epoch 22/30\n",
            "57/57 [==============================] - 111s 2s/step - loss: 1.1020 - accuracy: 0.5499 - val_loss: 0.8363 - val_accuracy: 0.8041\n",
            "Epoch 23/30\n",
            "57/57 [==============================] - 109s 2s/step - loss: 1.0985 - accuracy: 0.5459 - val_loss: 0.8106 - val_accuracy: 0.8241\n",
            "Epoch 24/30\n",
            "57/57 [==============================] - 111s 2s/step - loss: 1.0988 - accuracy: 0.5481 - val_loss: 0.8182 - val_accuracy: 0.8357\n",
            "Epoch 25/30\n",
            "57/57 [==============================] - 108s 2s/step - loss: 1.0735 - accuracy: 0.5462 - val_loss: 0.7755 - val_accuracy: 0.8307\n",
            "Epoch 26/30\n",
            "57/57 [==============================] - 111s 2s/step - loss: 1.0535 - accuracy: 0.5635 - val_loss: 0.7426 - val_accuracy: 0.8224\n",
            "Epoch 27/30\n",
            "57/57 [==============================] - 108s 2s/step - loss: 1.0681 - accuracy: 0.5487 - val_loss: 0.7431 - val_accuracy: 0.8435\n",
            "Epoch 28/30\n",
            "57/57 [==============================] - 111s 2s/step - loss: 1.0410 - accuracy: 0.5641 - val_loss: 0.7351 - val_accuracy: 0.8302\n",
            "Epoch 29/30\n",
            "57/57 [==============================] - 109s 2s/step - loss: 1.0290 - accuracy: 0.5640 - val_loss: 0.7928 - val_accuracy: 0.7936\n",
            "Epoch 30/30\n",
            "57/57 [==============================] - 111s 2s/step - loss: 1.0246 - accuracy: 0.5634 - val_loss: 0.7236 - val_accuracy: 0.8491\n",
            "dict_keys(['loss', 'accuracy', 'val_loss', 'val_accuracy'])\n",
            "Test loss: 0.7236394286155701\n",
            "Test accuracy: 0.849056601524353\n"
          ]
        }
      ],
      "source": [
        "model, history = neuronal_network_CNN(6, x_train, y_train, x_test, y_test, 128, epochs=30)"
      ]
    },
    {
      "cell_type": "code",
      "execution_count": null,
      "metadata": {
        "id": "GK_LutKtasK5",
        "colab": {
          "base_uri": "https://localhost:8080/"
        },
        "outputId": "44695b6a-e93a-48d4-e71b-ea90149aabe1"
      },
      "outputs": [
        {
          "output_type": "stream",
          "name": "stdout",
          "text": [
            "57/57 [==============================] - 7s 113ms/step\n",
            "(1802, 64, 64, 1)\n"
          ]
        }
      ],
      "source": [
        "# Prediction\n",
        "y_predicted = model.predict(x_test)\n",
        "print(x_test.shape)\n",
        "y_pred = np.argmax(y_predicted, axis=1)\n",
        "y_true = np.argmax(y_test, axis=1)\n",
        "# y_predicted_df = df(y_predicted)\n",
        "# # y_pred_df = pd.DataFrame(y_pred)\n",
        "# print(y_predicted_df, type(y_predicted_df))\n",
        "# maxima = np.array(y_test.argmax(axis=1))\n",
        "# y_true = maxima.reshape(6135,1)\n",
        "# y_true_df = df(y_true)\n",
        "# concat_x_y = pd.concat([y_predicted_df, y_true_df], axis=1)\n"
      ]
    },
    {
      "cell_type": "code",
      "execution_count": null,
      "metadata": {
        "id": "9Q36gSrJbWV3",
        "colab": {
          "base_uri": "https://localhost:8080/",
          "height": 295
        },
        "outputId": "8501ea0e-275b-409d-b19c-7b6dcab601ea"
      },
      "outputs": [
        {
          "output_type": "display_data",
          "data": {
            "text/plain": [
              "<Figure size 432x288 with 1 Axes>"
            ],
            "image/png": "[encoded data removed]"
          },
          "metadata": {
            "needs_background": "light"
          }
        }
      ],
      "source": [
        "# Learning graph\n",
        "\n",
        "pyplot.plot(history.history['accuracy'])\n",
        "pyplot.title(\"Courbe d'apprentissage\")\n",
        "pyplot.xlabel(\"Epoch\")\n",
        "pyplot.ylabel(\"Accuracy\")\n",
        "pyplot.legend(\"train\")\n",
        "pyplot.show()"
      ]
    },
    {
      "cell_type": "code",
      "execution_count": null,
      "metadata": {
        "id": "6AcrGJ4qd5vL",
        "colab": {
          "base_uri": "https://localhost:8080/"
        },
        "outputId": "b85d0617-39ef-48e8-b387-4fbfead146af"
      },
      "outputs": [
        {
          "output_type": "stream",
          "name": "stdout",
          "text": [
            "[[315   4   0   2   2   0]\n",
            " [134 110   3  12  32   6]\n",
            " [  0   0 282   1   0   0]\n",
            " [  1   0   5 276   2   9]\n",
            " [  0   5   2   8 287   1]\n",
            " [  0   0  42   1   0 260]]\n"
          ]
        }
      ],
      "source": [
        "# Confusion matrix (matrix)\n",
        "\n",
        "# y_true = np.argmax(y_true, axis=1)\n",
        "# y_pred = np.argmax(y_predicted, axis=1)\n",
        "matrix = confusion_matrix(y_true, y_pred)\n",
        "print(matrix)\n"
      ]
    },
    {
      "cell_type": "code",
      "execution_count": null,
      "metadata": {
        "id": "JWUze9H1easI",
        "colab": {
          "base_uri": "https://localhost:8080/",
          "height": 337
        },
        "outputId": "02e2f32a-afc2-4d61-8ff7-d1d61f34c1a3"
      },
      "outputs": [
        {
          "output_type": "display_data",
          "data": {
            "text/plain": [
              "<Figure size 432x288 with 2 Axes>"
            ],
            "image/png": "[encoded data removed]"
          },
          "metadata": {
            "needs_background": "light"
          }
        }
      ],
      "source": [
        "# Confusion matrix (graph)\n",
        "\n",
        "cm = sns.heatmap(matrix, annot=True, fmt=\"\", cmap='Blues', xticklabels=[\"de\", \"en\", \"nl\", \"be\", \"ru\", \"uk\"],\n",
        "                 yticklabels=[\"de\", \"en\", \"nl\", \"be\", \"ru\", \"uk\"])\n",
        "\n",
        "cm.set_title('Confusion Matrix MFCC\\n\\n');\n",
        "cm.set_xlabel('\\nPredicted Values')\n",
        "cm.set_ylabel('Actual Values ');\n",
        "\n",
        "# ## Ticket labels - List must be in alphabetical order\n",
        "# cm.xaxis.set_ticklabels([\"de\", \"en\", \"nl\", \"be\", \"ru\", \"uk\"])\n",
        "# cm.yaxis.set_ticklabels([\"de\", \"en\", \"nl\", \"be\", \"ru\", \"uk\"])\n",
        "\n",
        "## Display the visualization of the Confusion Matrix.\n",
        "pyplot.show()"
      ]
    },
    {
      "cell_type": "code",
      "execution_count": null,
      "metadata": {
        "id": "8zP8gao30zYB",
        "colab": {
          "base_uri": "https://localhost:8080/",
          "height": 388
        },
        "outputId": "56e79311-bf3f-40ea-8e19-1b5e8ae9bacc"
      },
      "outputs": [
        {
          "output_type": "display_data",
          "data": {
            "text/plain": [
              "<Figure size 576x432 with 2 Axes>"
            ],
            "image/png": "[encoded data removed]"
          },
          "metadata": {
            "needs_background": "light"
          }
        }
      ],
      "source": [
        "from mlxtend.plotting import plot_confusion_matrix\n",
        "classes = [\"de\", \"en\", \"nl\", \"be\", \"ru\", \"uk\"]\n",
        "fig, ax = plot_confusion_matrix(conf_mat=matrix,\n",
        "                                # class_names=classes,\n",
        "                                colorbar=True,\n",
        "                                cmap='Greens',\n",
        "                                show_normed=True,\n",
        "                                figsize=(8, 6))"
      ]
    }
  ],
  "metadata": {
    "colab": {
      "provenance": []
    },
    "kernelspec": {
      "display_name": "Python 3",
      "name": "python3"
    },
    "language_info": {
      "name": "python"
    }
  },
  "nbformat": 4,
  "nbformat_minor": 0
}