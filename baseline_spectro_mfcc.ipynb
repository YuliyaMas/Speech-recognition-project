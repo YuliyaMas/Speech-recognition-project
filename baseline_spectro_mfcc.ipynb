{
  "nbformat": 4,
  "nbformat_minor": 0,
  "metadata": {
    "colab": {
      "provenance": []
    },
    "kernelspec": {
      "name": "python3",
      "display_name": "Python 3"
    },
    "language_info": {
      "name": "python"
    },
    "gpuClass": "standard"
  },
  "cells": [
    {
      "cell_type": "code",
      "source": [
        "import seaborn as sns\n",
        "import matplotlib.pyplot as plt\n",
        "from sklearn.metrics import confusion_matrix\n",
        "from mlxtend.plotting import plot_confusion_matrix\n",
        "import glob\n",
        "import cv2\n",
        "import numpy as np\n",
        "import keras\n",
        "from keras import Sequential\n",
        "from keras.layers import Dense, Dropout, Flatten, Conv2D, MaxPooling2D\n",
        "from keras.optimizers import Adam\n",
        "from keras.losses import categorical_crossentropy\n",
        "from keras.callbacks import EarlyStopping\n",
        "from keras.utils import to_categorical"
      ],
      "metadata": {
        "id": "QZxkv_Kz3034"
      },
      "execution_count": null,
      "outputs": []
    },
    {
      "cell_type": "code",
      "source": [
        "from google.colab import drive\n",
        "drive.mount('/content/drive')"
      ],
      "metadata": {
        "colab": {
          "base_uri": "https://localhost:8080/"
        },
        "id": "arYsf9s_KIol",
        "outputId": "97dfda1c-4b7f-45dc-dacd-4369c530fee1"
      },
      "execution_count": null,
      "outputs": [
        {
          "output_type": "stream",
          "name": "stdout",
          "text": [
            "Drive already mounted at /content/drive; to attempt to forcibly remount, call drive.mount(\"/content/drive\", force_remount=True).\n"
          ]
        }
      ]
    },
    {
      "cell_type": "code",
      "source": [
        "lang = {'en': 0, 'nl': 1, 'de': 2, 'ru': 3, 'uk': 4, 'be': 5}"
      ],
      "metadata": {
        "id": "3lzTPgYiKThB"
      },
      "execution_count": null,
      "outputs": []
    },
    {
      "cell_type": "markdown",
      "source": [
        "### préparation des données"
      ],
      "metadata": {
        "id": "q_XqZwJFe-5f"
      }
    },
    {
      "cell_type": "code",
      "source": [
        "def data (langue):\n",
        "  data = []\n",
        "  files = glob.glob(f\"/content/drive/MyDrive/Projet_RN_M2S1/PROJET-CNN-BAUNE_PITER_TU_MASALSKAYA/data_baseline/{langue}/*\")\n",
        "  print(len(files))\n",
        "  for i in range(2500):\n",
        "    data.append(files[i])\n",
        "  print(len(data))\n",
        "\n",
        "  return data"
      ],
      "metadata": {
        "id": "ebPosn6bsPKY"
      },
      "execution_count": null,
      "outputs": []
    },
    {
      "cell_type": "code",
      "source": [
        "data_en = data(\"en\")\n",
        "data_nl = data(\"nl\")\n",
        "data_de = data(\"de\")\n",
        "data_ru = data(\"ru\")\n",
        "data_be = data(\"be\")\n",
        "data_uk = data(\"uk\")"
      ],
      "metadata": {
        "colab": {
          "base_uri": "https://localhost:8080/"
        },
        "id": "3W4xq9v6sCfC",
        "outputId": "8876d19d-9730-4569-ded5-6267626c32d7"
      },
      "execution_count": null,
      "outputs": [
        {
          "output_type": "stream",
          "name": "stdout",
          "text": [
            "2745\n",
            "2500\n",
            "7138\n",
            "2500\n",
            "9709\n",
            "2500\n",
            "2769\n",
            "2500\n",
            "6530\n",
            "2500\n",
            "6806\n",
            "2500\n"
          ]
        }
      ]
    },
    {
      "cell_type": "code",
      "source": [
        "file_train = []\n",
        "label_train = []\n",
        "\n",
        "file_test = []\n",
        "label_test = []\n",
        "\n",
        "\n",
        "for data in [data_en, data_be, data_de, data_nl, data_ru, data_uk]:\n",
        "    print(len(data))\n",
        "    file_train.extend(data[:1500])\n",
        "    file_test.extend(data[1500:len(data)])\n",
        "\n",
        "    if data[0].split(\"/\")[-1].__contains__(\"en\"):\n",
        "      x = [lang['en']]*1500\n",
        "      y = [lang['en']]*1000\n",
        "      label_train.extend(x)\n",
        "      label_test.extend(y)\n",
        "    elif data[0].split(\"/\")[-1].__contains__(\"be\"):\n",
        "      x = [lang['be']]*1500\n",
        "      y = [lang['be']]*1000\n",
        "      label_test.extend(y)\n",
        "      label_train.extend(x)\n",
        "    elif data[0].split(\"/\")[-1].__contains__(\"de\"):\n",
        "      x = [lang['de']]*1500\n",
        "      y = [lang['de']]*1000\n",
        "      label_test.extend(y)\n",
        "      label_train.extend(x)\n",
        "    elif data[0].split(\"/\")[-1].__contains__(\"nl\"):\n",
        "      x = [lang['nl']]*1500\n",
        "      y = [lang['nl']]*1000\n",
        "      label_test.extend(y)\n",
        "      label_train.extend(x)\n",
        "    elif data[0].split(\"/\")[-1].__contains__(\"ru\"):\n",
        "      x = [lang['ru']]*1500\n",
        "      y = [lang['ru']]*1000\n",
        "      label_test.extend(y)\n",
        "      label_train.extend(x)\n",
        "    elif data[0].split(\"/\")[-1].__contains__(\"uk\"):\n",
        "      x = [lang['uk']]*1500\n",
        "      y = [lang['uk']]*1000\n",
        "      label_test.extend(y)\n",
        "      label_train.extend(x)\n",
        "\n",
        "len(file_train), len(file_test), len(label_train), len(label_test)"
      ],
      "metadata": {
        "colab": {
          "base_uri": "https://localhost:8080/"
        },
        "id": "9zhoI6JaFuta",
        "outputId": "d8ce7b84-454d-4422-b888-4e6d65abc1cb"
      },
      "execution_count": null,
      "outputs": [
        {
          "output_type": "stream",
          "name": "stdout",
          "text": [
            "2500\n",
            "2500\n",
            "2500\n",
            "2500\n",
            "2500\n",
            "2500\n"
          ]
        },
        {
          "output_type": "execute_result",
          "data": {
            "text/plain": [
              "(9000, 6000, 9000, 6000)"
            ]
          },
          "metadata": {},
          "execution_count": 10
        }
      ]
    },
    {
      "cell_type": "code",
      "source": [
        "data_train = []\n",
        "\n",
        "for path in file_train:\n",
        "  try :\n",
        "    image = cv2.imread(path, 0).astype(np.uint8)\n",
        "    image = cv2.resize(image, (64, 64))\n",
        "    data_train.append(image)\n",
        "  except AttributeError :\n",
        "    continue\n",
        "\n",
        "len(data_train)"
      ],
      "metadata": {
        "colab": {
          "base_uri": "https://localhost:8080/"
        },
        "id": "QlwdCUBzGZ9x",
        "outputId": "79804a56-564e-4024-b7b1-4ebdafd2f5ae"
      },
      "execution_count": null,
      "outputs": [
        {
          "output_type": "execute_result",
          "data": {
            "text/plain": [
              "9000"
            ]
          },
          "metadata": {},
          "execution_count": 11
        }
      ]
    },
    {
      "cell_type": "code",
      "source": [
        "data_test = []\n",
        "\n",
        "for path in file_test:\n",
        "  try :\n",
        "    image = cv2.imread(path, 0).astype(np.uint8)\n",
        "    image = cv2.resize(image, (64, 64))\n",
        "    data_test.append(image)\n",
        "  except AttributeError :\n",
        "    continue"
      ],
      "metadata": {
        "id": "NDRQbOCbDWGC"
      },
      "execution_count": null,
      "outputs": []
    },
    {
      "cell_type": "markdown",
      "source": [
        "### formatage des données au format adapté au modèle"
      ],
      "metadata": {
        "id": "T2NGOFOTfI-z"
      }
    },
    {
      "cell_type": "code",
      "source": [
        "data_train = np.array(data_train).reshape(-1, 64, 64, 1).astype('float32')/255\n",
        "data_test = np.array(data_test).reshape(-1, 64, 64, 1).astype('float32')/255\n",
        "type(data_train), type(data_test)"
      ],
      "metadata": {
        "id": "Cq1lXpdUCx1o",
        "colab": {
          "base_uri": "https://localhost:8080/"
        },
        "outputId": "d11a51c0-bef3-43c9-8e89-6640d5138c5d"
      },
      "execution_count": null,
      "outputs": [
        {
          "output_type": "execute_result",
          "data": {
            "text/plain": [
              "(numpy.ndarray, numpy.ndarray)"
            ]
          },
          "metadata": {},
          "execution_count": 13
        }
      ]
    },
    {
      "cell_type": "markdown",
      "source": [
        "### formatage des labels au format adapté au modèle"
      ],
      "metadata": {
        "id": "1dOqcUMKfL9J"
      }
    },
    {
      "cell_type": "code",
      "source": [
        "label_train = to_categorical(label_train)\n",
        "label_test = to_categorical(label_test)\n",
        "type(label_train), type(label_test)"
      ],
      "metadata": {
        "colab": {
          "base_uri": "https://localhost:8080/"
        },
        "id": "d4iZxJ-YcR5w",
        "outputId": "8f66c06f-c740-4360-96a8-0c154d7f4065"
      },
      "execution_count": null,
      "outputs": [
        {
          "output_type": "execute_result",
          "data": {
            "text/plain": [
              "(numpy.ndarray, numpy.ndarray)"
            ]
          },
          "metadata": {},
          "execution_count": 14
        }
      ]
    },
    {
      "cell_type": "markdown",
      "source": [
        "### déclaration du modèle, de ses couches cachées, de ses paramètres et hyperparamètres"
      ],
      "metadata": {
        "id": "fo4gKDodfPF8"
      }
    },
    {
      "cell_type": "code",
      "source": [
        "model = Sequential()\n",
        "\n",
        "model.add(Conv2D(32, kernel_size=(3, 3), activation='relu', input_shape=(64,64,1)))\n",
        "model.add(MaxPooling2D(pool_size=(2, 2)))\n",
        "\n",
        "model.add(Conv2D(64, (3, 3), activation='relu'))\n",
        "model.add(MaxPooling2D(pool_size=(2, 2)))\n",
        "\n",
        "#permet de rajouter de la difficulté en enlevant un quart de filtre à chaque epochs\n",
        "# évite la surspécialisation\n",
        "model.add(Dropout(0.5))\n",
        "#deux couches denses\n",
        "#met tout à plat sur un vecteur\n",
        "model.add(Flatten())\n",
        "\n",
        "model.add(Dense(128, activation='relu'))\n",
        "model.add(Dropout(0.2))\n",
        "model.add(Dense(6,activation='softmax'))\n",
        "# FIN -- création des couches\n",
        "\n",
        "model.summary()\n",
        "\n",
        "# génération d'un fichier png avec la description des couches de notre modèle\n",
        "keras.utils.plot_model(model, show_dtype=True, show_shapes=True, show_layer_names=True, show_layer_activations=True)\n",
        "\n",
        "model.compile(loss=categorical_crossentropy,\n",
        "              optimizer=Adam(),\n",
        "              metrics=['accuracy'])\n"
      ],
      "metadata": {
        "colab": {
          "base_uri": "https://localhost:8080/"
        },
        "id": "kG3tY9gdDlJx",
        "outputId": "ea816c3e-3426-4159-91d6-bb3229104e66"
      },
      "execution_count": null,
      "outputs": [
        {
          "output_type": "stream",
          "name": "stdout",
          "text": [
            "Model: \"sequential\"\n",
            "_________________________________________________________________\n",
            " Layer (type)                Output Shape              Param #   \n",
            "=================================================================\n",
            " conv2d (Conv2D)             (None, 62, 62, 32)        320       \n",
            "                                                                 \n",
            " max_pooling2d (MaxPooling2D  (None, 31, 31, 32)       0         \n",
            " )                                                               \n",
            "                                                                 \n",
            " conv2d_1 (Conv2D)           (None, 29, 29, 64)        18496     \n",
            "                                                                 \n",
            " max_pooling2d_1 (MaxPooling  (None, 14, 14, 64)       0         \n",
            " 2D)                                                             \n",
            "                                                                 \n",
            " dropout (Dropout)           (None, 14, 14, 64)        0         \n",
            "                                                                 \n",
            " flatten (Flatten)           (None, 12544)             0         \n",
            "                                                                 \n",
            " dense (Dense)               (None, 128)               1605760   \n",
            "                                                                 \n",
            " dropout_1 (Dropout)         (None, 128)               0         \n",
            "                                                                 \n",
            " dense_1 (Dense)             (None, 6)                 774       \n",
            "                                                                 \n",
            "=================================================================\n",
            "Total params: 1,625,350\n",
            "Trainable params: 1,625,350\n",
            "Non-trainable params: 0\n",
            "_________________________________________________________________\n"
          ]
        }
      ]
    },
    {
      "cell_type": "code",
      "source": [
        "early = EarlyStopping(monitor='loss', patience=3)\n"
      ],
      "metadata": {
        "id": "ayEXlFkhpwrU"
      },
      "execution_count": null,
      "outputs": []
    },
    {
      "cell_type": "markdown",
      "source": [
        "### entraînement du modèle"
      ],
      "metadata": {
        "id": "cy-nX5QYfVpf"
      }
    },
    {
      "cell_type": "code",
      "source": [
        "historique = model.fit(data_train, label_train, batch_size=128, epochs=30, verbose=1, callbacks=[early],validation_data=(data_test, label_test))"
      ],
      "metadata": {
        "colab": {
          "base_uri": "https://localhost:8080/"
        },
        "id": "95c-Xp2gp0wU",
        "outputId": "f3c7455a-ca86-4ef1-8a98-b997999fbf83"
      },
      "execution_count": null,
      "outputs": [
        {
          "output_type": "stream",
          "name": "stdout",
          "text": [
            "Epoch 1/30\n",
            "71/71 [==============================] - 53s 721ms/step - loss: 1.7192 - accuracy: 0.2699 - val_loss: 1.5990 - val_accuracy: 0.3592\n",
            "Epoch 2/30\n",
            "71/71 [==============================] - 50s 711ms/step - loss: 1.5076 - accuracy: 0.3941 - val_loss: 1.6079 - val_accuracy: 0.3658\n",
            "Epoch 3/30\n",
            "71/71 [==============================] - 56s 797ms/step - loss: 1.4341 - accuracy: 0.4417 - val_loss: 1.5702 - val_accuracy: 0.3915\n",
            "Epoch 4/30\n",
            "71/71 [==============================] - 53s 755ms/step - loss: 1.3829 - accuracy: 0.4572 - val_loss: 1.5596 - val_accuracy: 0.4032\n",
            "Epoch 5/30\n",
            "71/71 [==============================] - 50s 712ms/step - loss: 1.3506 - accuracy: 0.4684 - val_loss: 1.5308 - val_accuracy: 0.4148\n",
            "Epoch 6/30\n",
            "71/71 [==============================] - 50s 709ms/step - loss: 1.3149 - accuracy: 0.4866 - val_loss: 1.5203 - val_accuracy: 0.4172\n",
            "Epoch 7/30\n",
            "71/71 [==============================] - 50s 712ms/step - loss: 1.2929 - accuracy: 0.4971 - val_loss: 1.5146 - val_accuracy: 0.4168\n",
            "Epoch 8/30\n",
            "71/71 [==============================] - 53s 754ms/step - loss: 1.2561 - accuracy: 0.5144 - val_loss: 1.5412 - val_accuracy: 0.4193\n",
            "Epoch 9/30\n",
            "71/71 [==============================] - 50s 712ms/step - loss: 1.2430 - accuracy: 0.5209 - val_loss: 1.5385 - val_accuracy: 0.4270\n",
            "Epoch 10/30\n",
            "71/71 [==============================] - 51s 714ms/step - loss: 1.2241 - accuracy: 0.5254 - val_loss: 1.5472 - val_accuracy: 0.4297\n",
            "Epoch 11/30\n",
            "71/71 [==============================] - 50s 712ms/step - loss: 1.1950 - accuracy: 0.5369 - val_loss: 1.5546 - val_accuracy: 0.4260\n",
            "Epoch 12/30\n",
            "71/71 [==============================] - 54s 757ms/step - loss: 1.1843 - accuracy: 0.5449 - val_loss: 1.5620 - val_accuracy: 0.4237\n",
            "Epoch 13/30\n",
            "71/71 [==============================] - 51s 715ms/step - loss: 1.1590 - accuracy: 0.5512 - val_loss: 1.5540 - val_accuracy: 0.4318\n",
            "Epoch 14/30\n",
            "71/71 [==============================] - 51s 714ms/step - loss: 1.1363 - accuracy: 0.5647 - val_loss: 1.5381 - val_accuracy: 0.4238\n",
            "Epoch 15/30\n",
            "71/71 [==============================] - 55s 777ms/step - loss: 1.1160 - accuracy: 0.5726 - val_loss: 1.5385 - val_accuracy: 0.4233\n",
            "Epoch 16/30\n",
            "71/71 [==============================] - 53s 755ms/step - loss: 1.1063 - accuracy: 0.5791 - val_loss: 1.5413 - val_accuracy: 0.4263\n",
            "Epoch 17/30\n",
            "71/71 [==============================] - 51s 713ms/step - loss: 1.0851 - accuracy: 0.5859 - val_loss: 1.5531 - val_accuracy: 0.4320\n",
            "Epoch 18/30\n",
            "71/71 [==============================] - 50s 711ms/step - loss: 1.0744 - accuracy: 0.5867 - val_loss: 1.5638 - val_accuracy: 0.4317\n",
            "Epoch 19/30\n",
            "71/71 [==============================] - 50s 712ms/step - loss: 1.0544 - accuracy: 0.5973 - val_loss: 1.5788 - val_accuracy: 0.4292\n",
            "Epoch 20/30\n",
            "71/71 [==============================] - 54s 756ms/step - loss: 1.0439 - accuracy: 0.5993 - val_loss: 1.5856 - val_accuracy: 0.4260\n",
            "Epoch 21/30\n",
            "71/71 [==============================] - 51s 720ms/step - loss: 1.0185 - accuracy: 0.6106 - val_loss: 1.6261 - val_accuracy: 0.4308\n",
            "Epoch 22/30\n",
            "71/71 [==============================] - 51s 715ms/step - loss: 1.0187 - accuracy: 0.6146 - val_loss: 1.6060 - val_accuracy: 0.4327\n",
            "Epoch 23/30\n",
            "71/71 [==============================] - 50s 712ms/step - loss: 0.9928 - accuracy: 0.6210 - val_loss: 1.6415 - val_accuracy: 0.4297\n",
            "Epoch 24/30\n",
            "71/71 [==============================] - 54s 756ms/step - loss: 0.9838 - accuracy: 0.6321 - val_loss: 1.7115 - val_accuracy: 0.4300\n",
            "Epoch 25/30\n",
            "71/71 [==============================] - 50s 710ms/step - loss: 0.9655 - accuracy: 0.6316 - val_loss: 1.6454 - val_accuracy: 0.4355\n",
            "Epoch 26/30\n",
            "71/71 [==============================] - 50s 711ms/step - loss: 0.9546 - accuracy: 0.6361 - val_loss: 1.6448 - val_accuracy: 0.4332\n",
            "Epoch 27/30\n",
            "71/71 [==============================] - 57s 808ms/step - loss: 0.9328 - accuracy: 0.6464 - val_loss: 1.6997 - val_accuracy: 0.4340\n",
            "Epoch 28/30\n",
            "71/71 [==============================] - 51s 715ms/step - loss: 0.9148 - accuracy: 0.6549 - val_loss: 1.6834 - val_accuracy: 0.4265\n",
            "Epoch 29/30\n",
            "71/71 [==============================] - 50s 712ms/step - loss: 0.9159 - accuracy: 0.6520 - val_loss: 1.6461 - val_accuracy: 0.4290\n",
            "Epoch 30/30\n",
            "71/71 [==============================] - 51s 713ms/step - loss: 0.9012 - accuracy: 0.6552 - val_loss: 1.6783 - val_accuracy: 0.4370\n"
          ]
        }
      ]
    },
    {
      "cell_type": "code",
      "source": [
        "score = model.evaluate(data_test, label_test, verbose=0)\n",
        "print('test loss: ', score[0])\n",
        "print('test accuracy: ', score[1])"
      ],
      "metadata": {
        "id": "b428mL8A3Kaq",
        "colab": {
          "base_uri": "https://localhost:8080/"
        },
        "outputId": "08042969-4afa-47b6-c535-6b0d9717f7c9"
      },
      "execution_count": null,
      "outputs": [
        {
          "output_type": "stream",
          "name": "stdout",
          "text": [
            "test loss:  1.6783397197723389\n",
            "test accuracy:  0.43700000643730164\n"
          ]
        }
      ]
    },
    {
      "cell_type": "markdown",
      "source": [
        "### prédictions du modèlde"
      ],
      "metadata": {
        "id": "RTaOE55efYQv"
      }
    },
    {
      "cell_type": "code",
      "source": [
        "prediction = model.predict(data_test)\n",
        "best = np.argmax(prediction, axis=1)\n",
        "ref = np.argmax(label_test, axis=1)"
      ],
      "metadata": {
        "colab": {
          "base_uri": "https://localhost:8080/"
        },
        "id": "98LkX-NzFTmR",
        "outputId": "ab14fec2-a60e-409a-b910-b1fdb2137c22"
      },
      "execution_count": null,
      "outputs": [
        {
          "output_type": "stream",
          "name": "stdout",
          "text": [
            "188/188 [==============================] - 9s 46ms/step\n"
          ]
        }
      ]
    },
    {
      "cell_type": "code",
      "source": [
        "cm = confusion_matrix(ref, best)\n",
        "print(\"Matrice de confusion:\\n\", cm)"
      ],
      "metadata": {
        "colab": {
          "base_uri": "https://localhost:8080/"
        },
        "id": "0VNwnjVrGFbq",
        "outputId": "6ef1910f-6d72-4eb2-e1be-22290d910262"
      },
      "execution_count": null,
      "outputs": [
        {
          "output_type": "stream",
          "name": "stdout",
          "text": [
            "Matrice de confusion:\n",
            " [[705  31  64  95  27  78]\n",
            " [ 45 586 113 107  75  74]\n",
            " [107  97 574 113  49  60]\n",
            " [129 132 157 326  97 159]\n",
            " [103 216 129 169 127 256]\n",
            " [ 75 127 104 273 117 304]]\n"
          ]
        }
      ]
    },
    {
      "cell_type": "code",
      "source": [
        "fig, ax = plot_confusion_matrix(conf_mat=cm,\n",
        "                                colorbar=True,\n",
        "                                class_names=lang.keys(),\n",
        "                                cmap='Greens',\n",
        "                                figsize=(8, 6))\n",
        "plt.title(\"\\nmatrice de confusion - baseline\\n\")\n",
        "plt.savefig('matrice_baseline.png', dpi=300, bbox_inches='tight')\n",
        "plt.show()"
      ],
      "metadata": {
        "colab": {
          "base_uri": "https://localhost:8080/",
          "height": 440
        },
        "id": "EOtsz9pH6232",
        "outputId": "4f198f24-580e-4f21-c588-421bfb990dcc"
      },
      "execution_count": null,
      "outputs": [
        {
          "output_type": "display_data",
          "data": {
            "text/plain": [
              "<Figure size 576x432 with 2 Axes>"
            ],
            "image/png": "[encoded data removed]"
          },
          "metadata": {
            "needs_background": "light"
          }
        }
      ]
    },
    {
      "cell_type": "code",
      "source": [
        "# !pip uninstall numpy\n",
        "# !pip uninstall matplotlib\n",
        "# !pip install numpy\n",
        "# !pip install matplotlib"
      ],
      "metadata": {
        "id": "U9F1XKXQrqFX"
      },
      "execution_count": null,
      "outputs": []
    }
  ]
}
